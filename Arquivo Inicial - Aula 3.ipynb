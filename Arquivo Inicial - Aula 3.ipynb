{
 "cells": [
  {
   "cell_type": "markdown",
   "metadata": {},
   "source": [
    "# Automação Web e Busca de Informações com Python\n",
    "\n",
    "#### Desafio: \n",
    "\n",
    "Trabalhamos em uma importadora e o preço dos nossos produtos é vinculado a cotação de:\n",
    "- Dólar\n",
    "- Euro\n",
    "- Ouro\n",
    "\n",
    "Precisamos pegar na internet, de forma automática, a cotação desses 3 itens e saber quanto devemos cobrar pelos nossos produtos, considerando uma margem de contribuição que temos na nossa base de dados.\n",
    "\n",
    "Base de Dados: https://drive.google.com/drive/folders/1KmAdo593nD8J9QBaZxPOG1yxHZua4Rtv?usp=sharing\n",
    "\n",
    "Para isso, vamos criar uma automação web:\n",
    "\n",
    "- Usaremos o selenium\n",
    "- Importante: baixar o webdriver"
   ]
  },
  {
   "cell_type": "code",
   "execution_count": 8,
   "metadata": {},
   "outputs": [
    {
     "name": "stdout",
     "output_type": "stream",
     "text": [
      "5.0115\n",
      "5.50793919\n",
      "324.63\n"
     ]
    }
   ],
   "source": [
    "from selenium import webdriver\n",
    "from selenium.webdriver.common.keys import Keys\n",
    "from selenium.webdriver.common.by import By\n",
    "\n",
    "\n",
    "browser = webdriver.Chrome()\n",
    "\n",
    "# entrar no google e pesquisar cotacao do dolar\n",
    "browser.get(\"https://www.google.com/\")\n",
    "browser.find_element(By.XPATH,'/html/body/div[1]/div[3]/form/div[1]/div[1]/div[1]/div/div[2]/input').send_keys(\"cotacao dolar\" ,Keys.ENTER )\n",
    "\n",
    "# pegar cotacao do dolar\n",
    "dolar = browser.find_element(By.XPATH,'//*[@id=\"knowledge-currency__updatable-data-column\"]/div[1]/div[2]/span[1]').get_attribute('data-value')\n",
    "print(dolar)\n",
    "\n",
    "# pesquisar cotacao euro\n",
    "browser.get(\"https://www.google.com/\")\n",
    "browser.find_element(By.XPATH,'/html/body/div[1]/div[3]/form/div[1]/div[1]/div[1]/div/div[2]/input').send_keys(\"cotacao euro\",Keys.ENTER)\n",
    "\n",
    "# pegar cotacoa do euro\n",
    "euro = browser.find_element(By.XPATH,'//*[@id=\"knowledge-currency__updatable-data-column\"]/div[1]/div[2]/span[1]').get_attribute('data-value')\n",
    "print(euro)\n",
    "\n",
    "# pesquisar cotacao do ouro (melhorcambio)\n",
    "browser.get(\"https://www.melhorcambio.com/ouro-hoje\")\n",
    "\n",
    "# pegar cotacao do ouro\n",
    "ouro = browser.find_element(By.XPATH,'//*[@id=\"comercial\"]').get_attribute('value')\n",
    "ouro = ouro.replace(\",\",\".\")\n",
    "print(ouro)\n",
    "\n",
    "\n",
    "browser.quit()\n"
   ]
  },
  {
   "cell_type": "markdown",
   "metadata": {},
   "source": [
    "### Agora vamos atualiza a nossa base de preços com as novas cotações"
   ]
  },
  {
   "cell_type": "markdown",
   "metadata": {},
   "source": [
    "- Importando a base de dados"
   ]
  },
  {
   "cell_type": "code",
   "execution_count": 9,
   "metadata": {
    "scrolled": true
   },
   "outputs": [],
   "source": [
    "# importar base de dados\n",
    "import pandas as pd\n",
    "\n",
    "table = pd.read_excel(\"Produtos.xlsx\")\n",
    "#display(table)"
   ]
  },
  {
   "cell_type": "markdown",
   "metadata": {},
   "source": [
    "- Atualizando os preços e o cálculo do Preço Final"
   ]
  },
  {
   "cell_type": "code",
   "execution_count": 10,
   "metadata": {},
   "outputs": [
    {
     "data": {
      "text/html": [
       "<div>\n",
       "<style scoped>\n",
       "    .dataframe tbody tr th:only-of-type {\n",
       "        vertical-align: middle;\n",
       "    }\n",
       "\n",
       "    .dataframe tbody tr th {\n",
       "        vertical-align: top;\n",
       "    }\n",
       "\n",
       "    .dataframe thead th {\n",
       "        text-align: right;\n",
       "    }\n",
       "</style>\n",
       "<table border=\"1\" class=\"dataframe\">\n",
       "  <thead>\n",
       "    <tr style=\"text-align: right;\">\n",
       "      <th></th>\n",
       "      <th>Produtos</th>\n",
       "      <th>Preço Original</th>\n",
       "      <th>Moeda</th>\n",
       "      <th>Cotação</th>\n",
       "      <th>Preço de Compra</th>\n",
       "      <th>Margem</th>\n",
       "      <th>Preço de Venda</th>\n",
       "    </tr>\n",
       "  </thead>\n",
       "  <tbody>\n",
       "    <tr>\n",
       "      <th>0</th>\n",
       "      <td>Câmera Canon</td>\n",
       "      <td>999.99</td>\n",
       "      <td>Dólar</td>\n",
       "      <td>5.011500</td>\n",
       "      <td>5011.449885</td>\n",
       "      <td>1.40</td>\n",
       "      <td>7016.029839</td>\n",
       "    </tr>\n",
       "    <tr>\n",
       "      <th>1</th>\n",
       "      <td>Carro Renault</td>\n",
       "      <td>4500.00</td>\n",
       "      <td>Euro</td>\n",
       "      <td>5.507939</td>\n",
       "      <td>24785.726355</td>\n",
       "      <td>2.00</td>\n",
       "      <td>49571.452710</td>\n",
       "    </tr>\n",
       "    <tr>\n",
       "      <th>2</th>\n",
       "      <td>Notebook Dell</td>\n",
       "      <td>899.99</td>\n",
       "      <td>Dólar</td>\n",
       "      <td>5.011500</td>\n",
       "      <td>4510.299885</td>\n",
       "      <td>1.70</td>\n",
       "      <td>7667.509805</td>\n",
       "    </tr>\n",
       "    <tr>\n",
       "      <th>3</th>\n",
       "      <td>IPhone</td>\n",
       "      <td>799.00</td>\n",
       "      <td>Dólar</td>\n",
       "      <td>5.011500</td>\n",
       "      <td>4004.188500</td>\n",
       "      <td>1.70</td>\n",
       "      <td>6807.120450</td>\n",
       "    </tr>\n",
       "    <tr>\n",
       "      <th>4</th>\n",
       "      <td>Carro Fiat</td>\n",
       "      <td>3000.00</td>\n",
       "      <td>Euro</td>\n",
       "      <td>5.507939</td>\n",
       "      <td>16523.817570</td>\n",
       "      <td>1.90</td>\n",
       "      <td>31395.253383</td>\n",
       "    </tr>\n",
       "    <tr>\n",
       "      <th>5</th>\n",
       "      <td>Celular Xiaomi</td>\n",
       "      <td>480.48</td>\n",
       "      <td>Dólar</td>\n",
       "      <td>5.011500</td>\n",
       "      <td>2407.925520</td>\n",
       "      <td>2.00</td>\n",
       "      <td>4815.851040</td>\n",
       "    </tr>\n",
       "    <tr>\n",
       "      <th>6</th>\n",
       "      <td>Joia 20g</td>\n",
       "      <td>20.00</td>\n",
       "      <td>Ouro</td>\n",
       "      <td>324.630000</td>\n",
       "      <td>6492.600000</td>\n",
       "      <td>1.15</td>\n",
       "      <td>7466.490000</td>\n",
       "    </tr>\n",
       "  </tbody>\n",
       "</table>\n",
       "</div>"
      ],
      "text/plain": [
       "         Produtos  Preço Original  Moeda     Cotação  Preço de Compra  Margem  \\\n",
       "0    Câmera Canon          999.99  Dólar    5.011500      5011.449885    1.40   \n",
       "1   Carro Renault         4500.00   Euro    5.507939     24785.726355    2.00   \n",
       "2   Notebook Dell          899.99  Dólar    5.011500      4510.299885    1.70   \n",
       "3          IPhone          799.00  Dólar    5.011500      4004.188500    1.70   \n",
       "4      Carro Fiat         3000.00   Euro    5.507939     16523.817570    1.90   \n",
       "5  Celular Xiaomi          480.48  Dólar    5.011500      2407.925520    2.00   \n",
       "6        Joia 20g           20.00   Ouro  324.630000      6492.600000    1.15   \n",
       "\n",
       "   Preço de Venda  \n",
       "0     7016.029839  \n",
       "1    49571.452710  \n",
       "2     7667.509805  \n",
       "3     6807.120450  \n",
       "4    31395.253383  \n",
       "5     4815.851040  \n",
       "6     7466.490000  "
      ]
     },
     "metadata": {},
     "output_type": "display_data"
    }
   ],
   "source": [
    "# atalizar cotacoes\n",
    "table.loc[table[\"Moeda\"] == \"Dólar\",\"Cotação\"] = float(dolar)\n",
    "table.loc[table[\"Moeda\"] == \"Euro\",\"Cotação\"] = float(euro)\n",
    "table.loc[table[\"Moeda\"] == \"Ouro\",\"Cotação\"] = float(ouro)\n",
    "\n",
    "table[\"Preço de Compra\"] = table[\"Preço Original\"] * table [\"Cotação\"]\n",
    "\n",
    "table[\"Preço de Venda\"] = table[\"Preço de Compra\"] * table [\"Margem\"]\n",
    "display(table)\n",
    "\n",
    "# atualizar preco de compra e venda"
   ]
  },
  {
   "cell_type": "markdown",
   "metadata": {},
   "source": [
    "### Agora vamos exportar a nova base de preços atualizada"
   ]
  },
  {
   "cell_type": "code",
   "execution_count": 11,
   "metadata": {},
   "outputs": [],
   "source": [
    "# exportar base com precos atualizados\n",
    "table.to_excel(\"ProdutosNovo.xlsx\", index = False)"
   ]
  },
  {
   "cell_type": "code",
   "execution_count": null,
   "metadata": {},
   "outputs": [],
   "source": []
  }
 ],
 "metadata": {
  "kernelspec": {
   "display_name": "Python 3 (ipykernel)",
   "language": "python",
   "name": "python3"
  },
  "language_info": {
   "codemirror_mode": {
    "name": "ipython",
    "version": 3
   },
   "file_extension": ".py",
   "mimetype": "text/x-python",
   "name": "python",
   "nbconvert_exporter": "python",
   "pygments_lexer": "ipython3",
   "version": "3.9.7"
  }
 },
 "nbformat": 4,
 "nbformat_minor": 4
}
